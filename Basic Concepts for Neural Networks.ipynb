{
 "cells": [
  {
   "cell_type": "markdown",
   "source": [
    "### 1.) Basic Concepts\n",
    "- require numerical data\n",
    "- Artificial Neural Networks (composed of artificial neurons) aims to solve problems\n",
    "similar to the human brain\n",
    "- Used for tasks like: speech recognition, computer vision, recommender systems,etc.\n",
    "- There hasn't been much progress because of the lack of computational power and large\n",
    "datasets\n",
    "- Similar to other different forms of ML, ANN's can be used for supervised\n",
    "and unsupervised learning\n",
    "\n",
    "The number of hidden layers within an ANN helps differentiate between shallow and\n",
    "deep neural networks.\n",
    "- Deep Neural Network is comprised of multiple hidden layers, which is the case for\n",
    "learning\n",
    "\n",
    "So you'll often get different data types, but in order to use it, you need to transform it\n",
    "into some sort of numerical data.\n",
    "\n",
    "\n",
    "**The training process(usually)**\n",
    "- First we input labeled data (dataset)\n",
    "- Then it is transformed into numerical data\n",
    "- Training to minimize error (difference between the predicted & the actual output)"
   ],
   "metadata": {
    "collapsed": false
   }
  },
  {
   "cell_type": "markdown",
   "source": [
    "### The Perceptron\n",
    "- The perceptron is an artificial neuron which begins by receiving input data\n",
    "- Where it then does computation on it\n",
    "- And then lastly produces an output"
   ],
   "metadata": {
    "collapsed": false
   }
  },
  {
   "cell_type": "code",
   "execution_count": 1,
   "outputs": [
    {
     "name": "stdout",
     "output_type": "stream",
     "text": [
      "num_dataset.shape(5 Rows, 3 Columns)\n",
      "--> features.shape(5 Rows, 2 Columns)\n",
      "--> labels.shape(5 Rows, 1 Columns)\n"
     ]
    }
   ],
   "source": [
    "import numpy as np\n",
    "import neurolab as nl\n",
    "import matplotlib.pyplot as plt\n",
    "%matplotlib inline\n",
    "\n",
    "# The first 2 values represent the features, and then the 3rd represents the label in this array\n",
    "num_dataset = np.array([[0.22, 0.34, 0], [0.21, 0.37, 0], [0.25, 0.31, 0], [0.76, 0.19, 1], [0.84, 0.14, 1]])\n",
    "print(\"num_dataset.shape(\" + str(num_dataset.shape[0]) + \" Rows, \" + str(num_dataset.shape[1]) + \" Columns)\")\n",
    "\n",
    "# For every set (or rows) in num_dataset --> [:,\n",
    "# get all columns([0] and [1]) up to index 2 -----------> [:, :2]\n",
    "features = num_dataset[:, :2]\n",
    "print(\"--> features.shape(\" + str(features.shape[0]) + \" Rows, \" + str(features.shape[1]) + \" Columns)\")\n",
    "\n",
    "# For every set (or row) in num_dataset --> [:,\n",
    "# Get column at index [2] ----------------> [:, 2]\n",
    "# Reshape so the # of columns != 0, # of Rows stays the same ---------> reshape( (num_dataset.shape[0], 1))\n",
    "labels = num_dataset[:, 2].reshape((num_dataset.shape[0], 1))\n",
    "print(\"--> labels.shape(\" + str(labels.shape[0]) + \" Rows, \" + str(labels.shape[1]) + \" Columns)\")"
   ],
   "metadata": {
    "collapsed": false,
    "pycharm": {
     "name": "#%%\n"
    }
   }
  },
  {
   "cell_type": "code",
   "execution_count": 2,
   "outputs": [
    {
     "data": {
      "text/plain": "Text(0.5, 1.0, 'Input Data')"
     },
     "execution_count": 2,
     "metadata": {},
     "output_type": "execute_result"
    },
    {
     "data": {
      "text/plain": "<Figure size 432x288 with 1 Axes>",
      "image/png": "[encoded data removed]"
     },
     "metadata": {
      "needs_background": "light"
     },
     "output_type": "display_data"
    }
   ],
   "source": [
    "# grab index[0] of feature set (is x Axis)\n",
    "# grab index[1] of feature set (is y Axis)\n",
    "plt.scatter(features[:, 0], features[:, 1])\n",
    "plt.xlabel('Dimension 1')\n",
    "plt.ylabel('Dimension 2')\n",
    "plt.title('Input Data')"
   ],
   "metadata": {
    "collapsed": false,
    "pycharm": {
     "name": "#%%\n"
    }
   }
  },
  {
   "cell_type": "code",
   "execution_count": 3,
   "outputs": [],
   "source": [
    "# Set minimum and maximum for each dimension\n",
    "dim1_min, dim1_max = 0, 1\n",
    "dim2_min, dim2_max = 0, 1\n",
    "\n",
    "# Our dataset is made of 5 samples/ 5 rows and 2D/features/columns\n",
    "# So our perceptron is going to have 2 input neurons, one for each of the dimensions\n",
    "dim1 = [dim1_min, dim1_max]\n",
    "dim2 = [dim2_min, dim2_max]\n",
    "\n",
    "# Our output is only going to be just a single neuron because our output is going to be either 0 or 1\n",
    "num_output = labels.shape[1]   # basically means num_output == 1\n",
    "\n",
    "# create new perceptron using newp\n",
    "# newp is for single layer perceptrons in neural lab\n",
    "perceptron = nl.net.newp([dim1, dim2], num_output)"
   ],
   "metadata": {
    "collapsed": false,
    "pycharm": {
     "name": "#%%\n"
    }
   }
  },
  {
   "cell_type": "code",
   "execution_count": 4,
   "outputs": [
    {
     "name": "stdout",
     "output_type": "stream",
     "text": [
      "The goal of learning is reached\n"
     ]
    },
    {
     "data": {
      "text/plain": "<Figure size 432x288 with 1 Axes>",
      "image/png": "[encoded data removed]"
     },
     "metadata": {
      "needs_background": "light"
     },
     "output_type": "display_data"
    }
   ],
   "source": [
    "# Now that we have our perceptron, let's train it on our data\n",
    "# We are going to train it on our features and our labels\n",
    "# Use 100 epochs, show 20, with a learning rate of 0.03\n",
    "error_progress = perceptron.train(features, labels, epochs=100, show=20, lr=0.03)\n",
    "\n",
    "plt.plot(error_progress)\n",
    "plt.xlabel('Number of Epochs')\n",
    "plt.ylabel('Training Error')\n",
    "plt.title('Training Error Progress')\n",
    "plt.grid()"
   ],
   "metadata": {
    "collapsed": false,
    "pycharm": {
     "name": "#%%\n"
    }
   }
  },
  {
   "cell_type": "markdown",
   "source": [
    "Once our perceptron has learned our data, we can test it for predictions using the simulation function in neurolabs"
   ],
   "metadata": {
    "collapsed": false
   }
  },
  {
   "cell_type": "code",
   "execution_count": 5,
   "outputs": [
    {
     "data": {
      "text/plain": "array([[0.]])"
     },
     "execution_count": 5,
     "metadata": {},
     "output_type": "execute_result"
    }
   ],
   "source": [
    "# It estimates class 1\n",
    "perceptron.sim([[0.81, 0.23]])\n",
    "\n",
    "# It estimates class 0\n",
    "perceptron.sim([[0.27, 0.42]])"
   ],
   "metadata": {
    "collapsed": false,
    "pycharm": {
     "name": "#%%\n"
    }
   }
  }
 ],
 "metadata": {
  "kernelspec": {
   "display_name": "Python 3",
   "language": "python",
   "name": "python3"
  },
  "language_info": {
   "codemirror_mode": {
    "name": "ipython",
    "version": 2
   },
   "file_extension": ".py",
   "mimetype": "text/x-python",
   "name": "python",
   "nbconvert_exporter": "python",
   "pygments_lexer": "ipython2",
   "version": "2.7.6"
  }
 },
 "nbformat": 4,
 "nbformat_minor": 0
}