{
 "cells": [
  {
   "cell_type": "markdown",
   "source": [
    "### 3. Single Layer Neural Network\n",
    "- Collection of artificial neurons\n",
    "\n",
    "In the following example we will be using a Single Layer Neural Network as a Classifier"
   ],
   "metadata": {
    "collapsed": false
   }
  },
  {
   "cell_type": "code",
   "execution_count": 1,
   "outputs": [
    {
     "name": "stdout",
     "output_type": "stream",
     "text": [
      "===================== text =====================\n",
      "text.shape(16 Rows, 4 Columns)\n",
      " [[1.  4.  0.  0. ]\n",
      " [1.1 3.9 0.  0. ]\n",
      " [1.2 4.1 0.  0. ]\n",
      " [0.9 3.7 0.  0. ]\n",
      " [7.  4.  0.  1. ]\n",
      " [7.2 4.1 0.  1. ]\n",
      " [6.9 3.9 0.  1. ]\n",
      " [7.1 4.2 0.  1. ]\n",
      " [4.  1.  1.  0. ]\n",
      " [4.1 0.9 1.  0. ]\n",
      " [4.2 1.1 1.  0. ]\n",
      " [3.9 0.8 1.  0. ]\n",
      " [4.  7.  1.  1. ]\n",
      " [4.2 7.2 1.  1. ]\n",
      " [3.9 7.1 1.  1. ]\n",
      " [4.1 6.8 1.  1. ]]\n",
      "\n",
      "===================== data =====================\n",
      "data.shape(16 Rows, 2 Columns)\n",
      " [[1.  4. ]\n",
      " [1.1 3.9]\n",
      " [1.2 4.1]\n",
      " [0.9 3.7]\n",
      " [7.  4. ]\n",
      " [7.2 4.1]\n",
      " [6.9 3.9]\n",
      " [7.1 4.2]\n",
      " [4.  1. ]\n",
      " [4.1 0.9]\n",
      " [4.2 1.1]\n",
      " [3.9 0.8]\n",
      " [4.  7. ]\n",
      " [4.2 7.2]\n",
      " [3.9 7.1]\n",
      " [4.1 6.8]]\n",
      "\n",
      "===================== labels ===================\n",
      "labels.shape(16 Rows, 2 Columns)\n",
      " [[0. 0.]\n",
      " [0. 0.]\n",
      " [0. 0.]\n",
      " [0. 0.]\n",
      " [0. 1.]\n",
      " [0. 1.]\n",
      " [0. 1.]\n",
      " [0. 1.]\n",
      " [1. 0.]\n",
      " [1. 0.]\n",
      " [1. 0.]\n",
      " [1. 0.]\n",
      " [1. 1.]\n",
      " [1. 1.]\n",
      " [1. 1.]\n",
      " [1. 1.]]\n"
     ]
    }
   ],
   "source": [
    "import numpy as np\n",
    "import neurolab as nl\n",
    "import matplotlib.pyplot as plt\n",
    "%matplotlib inline\n",
    "\n",
    "text = np.loadtxt('data_simple_nn.txt')\n",
    "\n",
    "# Do Pre-processing:\n",
    "# For every set in bunch, index [0] & [1] is the data or features\n",
    "data = text[:, 0:2]\n",
    "\n",
    "# For every set in bunch, index [2] & [3] is the labels\n",
    "labels = text[:, 2:]\n",
    "\n",
    "print(\"===================== text =====================\")\n",
    "print(\"text.shape(\" + str(text.shape[0]) + \" Rows, \" + str(text.shape[1]) + \" Columns)\\n\", text)\n",
    "\n",
    "print(\"\\n===================== data =====================\")\n",
    "print(\"data.shape(\" + str(data.shape[0]) + \" Rows, \" + str(data.shape[1]) + \" Columns)\\n\", data)\n",
    "\n",
    "print(\"\\n===================== labels ===================\")\n",
    "print(\"labels.shape(\" + str(labels.shape[0]) + \" Rows, \" + str(labels.shape[1]) + \" Columns)\\n\", labels)"
   ],
   "metadata": {
    "collapsed": false,
    "pycharm": {
     "name": "#%%\n"
    }
   }
  },
  {
   "cell_type": "code",
   "execution_count": 2,
   "outputs": [
    {
     "data": {
      "text/plain": "<Figure size 432x288 with 1 Axes>",
      "image/png": "[encoded data removed]"
     },
     "metadata": {
      "needs_background": "light"
     },
     "output_type": "display_data"
    }
   ],
   "source": [
    "plt.scatter(data[:, 0], data[:, 1])\n",
    "plt.xlabel('Dimension 1') # X axis = data[:, 0]\n",
    "plt.ylabel('Dimension 2') # Y axis = data[:, 1]\n",
    "plt.title('Input Data')\n",
    "\n",
    "# Get min and max value from index[0] as well as index[1]\n",
    "dim1_min, dim1_max = data[:, 0].min(), data[:, 0].max()\n",
    "dim2_min, dim2_max = data[:, 1].min(), data[:, 1].max()\n",
    "\n",
    "dim1 = [dim1_min, dim1_max] # dim1: [0.9, 7.2]\n",
    "dim2 = [dim2_min, dim2_max] # dim2: [0.8, 7.2]\n",
    "\n",
    "# Total number of output neurons = # of Columns in labels (2)\n",
    "num_output = labels.shape[1]"
   ],
   "metadata": {
    "collapsed": false,
    "pycharm": {
     "name": "#%%\n"
    }
   }
  },
  {
   "cell_type": "markdown",
   "source": [
    "snn = Single Neural Network\n",
    "nl.net.newp(minmax,cn,transf) = New Perceptron\n",
    "- **minmax**: lol, the outer list is the # of input neurons, inner lists must\n",
    "contain 2 elements: min and max\n",
    "- **cn** : int, # of output neurons\n",
    "- **transf** : func (default function is HardLimit)\n",
    "\n",
    "In summary:\n",
    "- minmax : **Range of Input Value**\n",
    "- cn : **# of Neurons**\n",
    "- transf : Activation Function"
   ],
   "metadata": {
    "collapsed": false,
    "pycharm": {
     "name": "#%% md\n"
    }
   }
  },
  {
   "cell_type": "markdown",
   "source": [
    "### Activation Functions:\n",
    "\n",
    "- #### Hard limit function\n",
    "$ \\varphi^{\\mbox{hlim}}(v)  = \\begin{cases}\n",
    "1 & \\mbox{for } v \\geq 0 \\\\\n",
    "0 & \\mbox{for } v < 0\n",
    "\\end{cases}\n",
    "$\n",
    "\n",
    "\n",
    "- #### Piecewise linear function\n",
    "$ \\varphi^{\\mbox{pwl}}(v) = \\begin{cases}\n",
    " 1 & \\mbox{for } v \\geq \\frac{1}{2} \\\\\n",
    " v + \\frac{1}{2} & \\mbox{for } -\\frac{1}{2} < v < \\frac{1}{2} \\\\\n",
    " 0 & \\mbox{for } v \\leq -\\frac{1}{2}\n",
    " \\end{cases} $\n",
    "\n",
    "\n",
    "- #### Sigmoid function\n",
    "$ \\varphi_a^{\\mbox{sig}}(v) = \\frac{1}{1 + \\exp(-av)}. $"
   ],
   "metadata": {
    "collapsed": false,
    "pycharm": {
     "name": "#%% md\n"
    }
   }
  },
  {
   "cell_type": "code",
   "source": [
    "# SingleLayerPerceptron = Create net : Range of input value and output to 2 neurons, with default activation function\n",
    "snn = nl.net.newp([dim1, dim2], num_output)\n",
    "\n",
    "# train input patters, train target patterns, number of times data is fed, print, learning rate\n",
    "error_progress = snn.train(data, labels, epochs=100, show=20, lr=0.03)\n",
    "\n",
    "plt.plot(error_progress)\n",
    "plt.xlabel('Number of Epochs')\n",
    "plt.ylabel('Training Error')\n",
    "plt.title('Training Error Progress')\n",
    "plt.grid()"
   ],
   "metadata": {
    "collapsed": false,
    "pycharm": {
     "name": "#%%\n"
    }
   },
   "execution_count": 3,
   "outputs": [
    {
     "name": "stdout",
     "output_type": "stream",
     "text": [
      "Epoch: 20; Error: 4.0;\n",
      "Epoch: 40; Error: 4.0;\n",
      "Epoch: 60; Error: 4.0;\n",
      "Epoch: 80; Error: 4.0;\n",
      "Epoch: 100; Error: 4.0;\n",
      "The maximum number of train epochs is reached\n"
     ]
    },
    {
     "data": {
      "text/plain": "<Figure size 432x288 with 1 Axes>",
      "image/png": "[encoded data removed]"
     },
     "metadata": {
      "needs_background": "light"
     },
     "output_type": "display_data"
    }
   ]
  },
  {
   "cell_type": "code",
   "source": [
    "# So now we are going to test our neural network that has not been tested with other data\n",
    "print('Testing Data:\\n')\n",
    "testing_data = [ [0.3, 4.2],\n",
    "                 [4.3, 0.5],\n",
    "                 [4.6, 8  ] ]\n",
    "\n",
    "# for each data set in testing data,\n",
    "# print the i data set, then input i dataset into snn.sim, then print out first set in snn.sim\n",
    "for i in testing_data:\n",
    "    print(i, '==>', snn.sim([i])[0] )\n",
    "\n",
    "# Or to simply do : snn.sim(testing_data)"
   ],
   "metadata": {
    "collapsed": false,
    "pycharm": {
     "name": "#%%\n"
    }
   },
   "execution_count": 4,
   "outputs": [
    {
     "name": "stdout",
     "output_type": "stream",
     "text": [
      "Testing Data:\n",
      "\n",
      "[0.3, 4.2] ==> [0. 0.]\n",
      "[4.3, 0.5] ==> [1. 0.]\n",
      "[4.6, 8] ==> [1. 1.]\n"
     ]
    }
   ]
  },
  {
   "cell_type": "markdown",
   "source": [
    "### 4.) Multi-layer Neural Network\n",
    "\n",
    "In the following example we shall be using a Multi-layer Neural Network as Regressor\n",
    "\n",
    "- $ y = 3{x^2}+5 $"
   ],
   "metadata": {
    "collapsed": false,
    "pycharm": {
     "name": "#%% md\n"
    }
   }
  },
  {
   "cell_type": "code",
   "source": [
    "# Generating the data points\n",
    "min_vals = -20\n",
    "max_vals = 20\n",
    "num_points = 140\n",
    "\n",
    "# Create an array of 140 numbers between -20 and 20\n",
    "x = np.linspace(min_vals, max_vals, num_points)\n",
    "y = 3 * np.square(x) + 5\n",
    "\n",
    "# We are going to have to normalize these points for more efficient computing (this is often done in pre-processing)\n",
    "y /= np.linalg.norm(y)\n",
    "\n",
    "data = x.reshape(num_points, 1)\n",
    "labels = y.reshape(num_points, 1)\n",
    "\n",
    "plt.scatter(data, labels)\n",
    "plt.xlabel('Dimension 1')\n",
    "plt.ylabel('Dimension 2')\n",
    "plt.title('Data Points')\n"
   ],
   "metadata": {
    "collapsed": false,
    "pycharm": {
     "name": "#%%\n"
    }
   },
   "execution_count": 5,
   "outputs": [
    {
     "data": {
      "text/plain": "Text(0.5, 1.0, 'Data Points')"
     },
     "execution_count": 5,
     "metadata": {},
     "output_type": "execute_result"
    },
    {
     "data": {
      "text/plain": "<Figure size 432x288 with 1 Axes>",
      "image/png": "[encoded data removed]"
     },
     "metadata": {
      "needs_background": "light"
     },
     "output_type": "display_data"
    }
   ]
  },
  {
   "cell_type": "markdown",
   "source": [
    "We are going to have 2 Hidden Layers:\n",
    "- In the 1st Hidden Layer we are going to have 10 Neurons\n",
    "- In the 2nd Hidden Layer we are going to have 6 Neurons\n",
    "\n",
    "The Regressor Task is to predict the value which is why we're going to have only one neuron in the output layer\n"
   ],
   "metadata": {
    "collapsed": false,
    "pycharm": {
     "name": "#%% md\n"
    }
   }
  },
  {
   "cell_type": "code",
   "source": [
    "# Multi-Layer_Neural Network = Neurolab.NewFeedForward\n",
    "# For the dimensions ---> [[min_vals, max_vals]]\n",
    "# 10 neurons in 1st Hidden layer, 6 neurons in 2nd Hidden layer and 1 for Output layer\n",
    "mlnn = nl.net.newff([[min_vals, max_vals]], [10, 6, 1])\n",
    "\n",
    "# Then we are going to use gradient descent to train it\n",
    "mlnn.trainf = nl.train.train_gd\n",
    "\n",
    "error_progress = mlnn.train(data, labels, epochs=20000, show=100, goal=0.01)\n",
    "\n",
    "plt.plot(error_progress)\n",
    "plt.xlabel('Number of Epochs')\n",
    "plt.ylabel('Error Training')\n",
    "plt.title('Training Error Progress')\n",
    "plt.grid()"
   ],
   "metadata": {
    "collapsed": false,
    "pycharm": {
     "name": "#%%\n"
    }
   },
   "execution_count": 6,
   "outputs": [
    {
     "name": "stdout",
     "output_type": "stream",
     "text": [
      "Epoch: 100; Error: 0.18189163149688717;\n",
      "Epoch: 200; Error: 0.02527356768636248;\n",
      "Epoch: 300; Error: 0.020287401701950532;\n",
      "Epoch: 400; Error: 0.017878217675308537;\n",
      "Epoch: 500; Error: 0.01676882735967129;\n",
      "Epoch: 600; Error: 0.026550792672090116;\n",
      "The goal of learning is reached\n"
     ]
    },
    {
     "data": {
      "text/plain": "<Figure size 432x288 with 1 Axes>",
      "image/png": "[encoded data removed]"
     },
     "metadata": {
      "needs_background": "light"
     },
     "output_type": "display_data"
    }
   ]
  },
  {
   "cell_type": "code",
   "source": [
    "# output.shape(140 Rows, 1 Column)\n",
    "output = mlnn.sim(data)\n",
    "\n",
    "# y_pred.shape(140 Rows, Column)\n",
    "y_pred = output.reshape(num_points)\n",
    "\n",
    "# x_dense.shape(280 Rows, Column)\n",
    "x_dense = np.linspace(min_vals, max_vals, num_points * 2)\n",
    "\n",
    "# x_dense_fixed.shape(280 Rows, 1 Column)\n",
    "x_dense_fixed = x_dense.reshape((x_dense.size, 1))\n",
    "\n",
    "# y_dense_pred.shape(280 Rows, Column)\n",
    "y_dense_pred = mlnn.sim(x_dense_fixed).reshape(x_dense.size)\n",
    "\n",
    "# x_dense, y_dense_pred\n",
    "# '-' : Solid Line\n",
    "# x, y\n",
    "# '.' : Point Marker\n",
    "# x, y_pred\n",
    "# 'p' : Pentagon Marker\n",
    "plt.plot(x_dense, y_dense_pred, '-', x, y, '.', x, y_pred, 'p')\n",
    "plt.title('Actual vs. Predicted')\n",
    "\n",
    "# Training the Multi-Layer Neural Network further thus reducing the error is going to lead to the convergence of\n",
    "# the two curves shown \n",
    "\n"
   ],
   "metadata": {
    "collapsed": false,
    "pycharm": {
     "name": "#%%\n"
    }
   },
   "execution_count": 7,
   "outputs": [
    {
     "data": {
      "text/plain": "Text(0.5, 1.0, 'Actual vs. Predicted')"
     },
     "execution_count": 7,
     "metadata": {},
     "output_type": "execute_result"
    },
    {
     "data": {
      "text/plain": "<Figure size 432x288 with 1 Axes>",
      "image/png": "[encoded data removed]"
     },
     "metadata": {
      "needs_background": "light"
     },
     "output_type": "display_data"
    }
   ]
  }
 ],
 "metadata": {
  "kernelspec": {
   "display_name": "Python 3",
   "language": "python",
   "name": "python3"
  },
  "language_info": {
   "codemirror_mode": {
    "name": "ipython",
    "version": 2
   },
   "file_extension": ".py",
   "mimetype": "text/x-python",
   "name": "python",
   "nbconvert_exporter": "python",
   "pygments_lexer": "ipython2",
   "version": "2.7.6"
  }
 },
 "nbformat": 4,
 "nbformat_minor": 0
}