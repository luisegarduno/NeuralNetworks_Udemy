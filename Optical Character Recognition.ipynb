{
 "cells": [
  {
   "cell_type": "markdown",
   "metadata": {
    "collapsed": true,
    "pycharm": {
     "name": "#%% md\n"
    }
   },
   "source": [
    "### 6. Optical Character Recognition\n",
    "We are going to build an OCR engine to recognize handwritten characters"
   ]
  },
  {
   "cell_type": "code",
   "source": [
    "import os\n",
    "import sys\n",
    "import cv2\n",
    "import numpy as np\n",
    "\n",
    "input_file = 'letter.data'\n",
    "\n",
    "img_resize_factor = 12\n",
    "start, end = 6, -1\n",
    "height, width = 16, 8\n",
    "\n",
    "# Iterate through the lines in the letter.data file until the ESC key is pressed\n",
    "# We read and scale the line to 255\n",
    "with open(input_file, 'r') as f:\n",
    "    for line in f.readlines():\n",
    "        data = np.array([255 * float(x) for x in line.split('\\t')[start:end]])\n",
    "        # Now we're reshaping this 1D array into 2D image\n",
    "        img = np.reshape(data, (height, width))\n",
    "        # Then scale it\n",
    "        img_scaled = cv2.resize(img, None, fx=img_resize_factor, fy=img_resize_factor)\n",
    "        # We're also going to display the letter or the character\n",
    "        print(line)\n",
    "        # lastly we are going to view the image\n",
    "        cv2.imshow('Img', img_scaled)\n",
    "\n",
    "        c = cv2.waitKey()\n",
    "        if c == 27:\n",
    "            break"
   ],
   "metadata": {
    "collapsed": false,
    "pycharm": {
     "name": "#%%\n"
    }
   },
   "execution_count": 1,
   "outputs": [
    {
     "name": "stdout",
     "output_type": "stream",
     "text": [
      "1\to\t2\t1\t1\t0\t0\t0\t0\t0\t0\t0\t0\t0\t0\t0\t0\t0\t0\t0\t0\t0\t0\t0\t0\t0\t0\t0\t0\t0\t0\t1\t1\t1\t0\t0\t0\t0\t0\t1\t1\t1\t1\t1\t0\t0\t0\t1\t0\t0\t0\t1\t1\t0\t1\t1\t0\t0\t0\t0\t1\t1\t1\t0\t0\t0\t0\t0\t0\t1\t1\t0\t0\t0\t0\t0\t0\t1\t1\t0\t0\t0\t0\t0\t0\t1\t1\t0\t0\t0\t0\t0\t1\t1\t1\t0\t0\t0\t1\t1\t1\t0\t1\t1\t1\t1\t1\t0\t0\t0\t0\t0\t0\t0\t0\t0\t0\t0\t0\t0\t0\t0\t0\t0\t0\t0\t0\t0\t0\t0\t0\t0\t0\t0\t\n",
      "\n",
      "2\tm\t3\t1\t2\t0\t0\t0\t0\t0\t0\t0\t0\t0\t0\t0\t0\t0\t0\t0\t0\t0\t0\t0\t0\t0\t0\t0\t0\t0\t0\t0\t0\t0\t0\t0\t0\t0\t0\t0\t0\t0\t0\t0\t0\t0\t0\t0\t0\t0\t0\t0\t0\t0\t0\t1\t1\t1\t1\t1\t1\t0\t1\t1\t0\t1\t1\t0\t1\t1\t1\t0\t1\t1\t0\t0\t0\t1\t1\t0\t1\t1\t0\t0\t0\t1\t0\t0\t0\t0\t0\t0\t0\t0\t0\t0\t0\t0\t0\t0\t0\t0\t0\t0\t0\t0\t0\t0\t0\t0\t0\t0\t0\t0\t0\t0\t0\t0\t0\t0\t0\t0\t0\t0\t0\t0\t0\t0\t0\t0\t0\t0\t0\t0\t\n",
      "\n",
      "3\tm\t4\t1\t3\t0\t0\t0\t0\t0\t0\t0\t0\t0\t0\t0\t0\t0\t0\t0\t0\t0\t0\t0\t0\t0\t0\t0\t0\t0\t0\t0\t0\t0\t0\t0\t0\t0\t0\t0\t0\t0\t0\t0\t0\t0\t0\t0\t0\t0\t0\t0\t0\t0\t1\t1\t1\t0\t0\t1\t1\t0\t1\t0\t1\t0\t1\t1\t1\t0\t1\t0\t1\t1\t1\t0\t1\t0\t1\t0\t0\t1\t0\t0\t1\t1\t0\t0\t0\t0\t0\t0\t0\t0\t0\t0\t0\t0\t0\t0\t0\t0\t0\t0\t0\t0\t0\t0\t0\t0\t0\t0\t0\t0\t0\t0\t0\t0\t0\t0\t0\t0\t0\t0\t0\t0\t0\t0\t0\t0\t0\t0\t0\t0\t\n",
      "\n",
      "4\ta\t5\t1\t4\t0\t0\t0\t0\t0\t0\t0\t0\t0\t0\t0\t0\t0\t0\t0\t0\t0\t0\t0\t0\t0\t0\t0\t0\t0\t0\t0\t0\t0\t0\t0\t0\t0\t0\t0\t0\t0\t0\t0\t0\t0\t0\t0\t1\t1\t0\t0\t0\t0\t0\t1\t1\t0\t0\t0\t0\t0\t1\t0\t0\t0\t1\t1\t0\t0\t1\t0\t0\t1\t0\t1\t1\t0\t1\t1\t1\t0\t0\t0\t1\t0\t0\t0\t0\t0\t0\t0\t1\t1\t0\t0\t0\t0\t0\t0\t0\t0\t0\t0\t0\t0\t0\t0\t0\t0\t0\t0\t0\t0\t0\t0\t0\t0\t0\t0\t0\t0\t0\t0\t0\t0\t0\t0\t0\t0\t0\t0\t0\t0\t\n",
      "\n",
      "5\tn\t6\t1\t5\t0\t0\t0\t0\t0\t0\t0\t0\t0\t0\t0\t0\t0\t0\t0\t0\t0\t0\t0\t0\t0\t0\t0\t0\t0\t0\t0\t0\t0\t0\t0\t0\t0\t0\t0\t0\t0\t1\t1\t1\t0\t0\t0\t0\t1\t1\t0\t1\t0\t0\t0\t1\t1\t0\t0\t1\t0\t1\t1\t1\t0\t0\t0\t1\t0\t1\t1\t1\t0\t0\t0\t1\t0\t1\t1\t0\t0\t0\t0\t1\t0\t1\t1\t0\t0\t0\t0\t1\t0\t1\t0\t0\t0\t0\t0\t0\t1\t1\t0\t0\t0\t0\t0\t0\t1\t0\t0\t0\t0\t0\t0\t0\t0\t0\t0\t0\t0\t0\t0\t0\t0\t0\t0\t0\t0\t0\t0\t0\t0\t\n",
      "\n"
     ]
    }
   ]
  },
  {
   "cell_type": "markdown",
   "source": [
    "Building an Optical Characteristic Recognition using a Neural Network w/ Neurolab."
   ],
   "metadata": {
    "collapsed": false
   }
  },
  {
   "cell_type": "code",
   "execution_count": 2,
   "outputs": [],
   "source": [
    "import numpy as np\n",
    "import neurolab as nl\n",
    "\n",
    "input_file = 'letter.data'\n",
    "\n",
    "# set the number of data points we want to load\n",
    "num_data = 50\n",
    "\n",
    "# Next, we're going to define the string containing all distinct or different characters,\n",
    "# and extract the number of classes there are\n",
    "original_labels = 'omandig'\n",
    "num_original_labels = len(original_labels)\n",
    "\n",
    "# Now let's use 90% of the data for training and set aside 10% of it for testing\n",
    "num_train = int(0.9 * num_data)\n",
    "num_test  = num_data - num_train\n",
    "\n",
    "start = 6\n",
    "end = -1\n",
    "\n",
    "# 2 lists\n",
    "data = []\n",
    "labels = []\n",
    "\n",
    "with open(input_file, 'r') as f:\n",
    "    # for every line in f, read lines\n",
    "    for line in f.readlines():\n",
    "\n",
    "        # we're going to split by tabs\n",
    "        list_vals = line.split('\\t')\n",
    "\n",
    "        # So if the current label isn't in the list of labels, we're just going to continue\n",
    "        if list_vals[1] not in original_labels:\n",
    "            continue\n",
    "\n",
    "        label = np.zeros((num_original_labels, 1))\n",
    "        label[original_labels.index(list_vals[1])] = 1\n",
    "        labels.append(label)\n",
    "\n",
    "        # Next we have to get the character vector and add it to the list\n",
    "        current_char = np.array([float(x) for x in list_vals[start:end]])\n",
    "        data.append(current_char)\n",
    "\n",
    "        # Exit the loop as soon as the data set is created\n",
    "        if len(data) >= num_data:\n",
    "            break\n",
    "\n",
    "\n"
   ],
   "metadata": {
    "collapsed": false,
    "pycharm": {
     "name": "#%%\n"
    }
   }
  },
  {
   "cell_type": "markdown",
   "source": [
    "- So we have to convert our data and our labels lists into numpy arrays\n",
    "- Then we are going to create the architecture of the Neural Network\n",
    "    - We are going to train it and do some predictions on it\n"
   ],
   "metadata": {
    "collapsed": false
   }
  },
  {
   "cell_type": "code",
   "execution_count": 3,
   "outputs": [
    {
     "name": "stdout",
     "output_type": "stream",
     "text": [
      "Epoch: 1000; Error: 12.230610165435579;\n",
      "Epoch: 2000; Error: 1.4951032615819946;\n",
      "Epoch: 3000; Error: 1.4319005427677478;\n",
      "Epoch: 4000; Error: 1.4955324876060123;\n",
      "Epoch: 5000; Error: 1.3693782418518505;\n",
      "Epoch: 6000; Error: 1.4092008431113634;\n",
      "Epoch: 7000; Error: 1.3579342840545565;\n",
      "Epoch: 8000; Error: 1.5087052910474497;\n",
      "Epoch: 9000; Error: 1.344731806052153;\n",
      "Epoch: 10000; Error: 1.3601594128886974;\n",
      "The maximum number of train epochs is reached\n"
     ]
    }
   ],
   "source": [
    "# Let's begin by converting our 2 lists (data, labels) into numpy arrays\n",
    "data = np.asfarray(data)\n",
    "labels = np.array(labels).reshape(num_data, num_original_labels)\n",
    "\n",
    "num_dimensions = len(data[0])\n",
    "\n",
    "neural_network = nl.net.newff([[0,1] for _ in range(len(data[0]))], [128, 16, num_original_labels])\n",
    "neural_network.trainf = nl.train.train_gd\n",
    "\n",
    "error_progress = neural_network.train(data[:num_train, :], labels[:num_train, :], epochs=10000, show=1000, goal=0.01)\n"
   ],
   "metadata": {
    "collapsed": false,
    "pycharm": {
     "name": "#%%\n"
    }
   }
  },
  {
   "cell_type": "code",
   "execution_count": 4,
   "outputs": [
    {
     "name": "stdout",
     "output_type": "stream",
     "text": [
      "\n",
      " Original:  o\n",
      "Predicted:  o\n",
      "\n",
      " Original:  m\n",
      "Predicted:  o\n",
      "\n",
      " Original:  m\n",
      "Predicted:  n\n",
      "\n",
      " Original:  a\n",
      "Predicted:  o\n",
      "\n",
      " Original:  n\n",
      "Predicted:  n\n"
     ]
    }
   ],
   "source": [
    "# Now let's see how it performs\n",
    "predict_test = neural_network.sim(data[num_train: , :])\n",
    "for i in range(num_test):\n",
    "    print('\\n Original: ', original_labels[np.argmax(labels[i])])\n",
    "    print('Predicted: ', original_labels[np.argmax(predict_test[i])])\n"
   ],
   "metadata": {
    "collapsed": false,
    "pycharm": {
     "name": "#%%\n"
    }
   }
  }
 ],
 "metadata": {
  "kernelspec": {
   "display_name": "Python 3",
   "language": "python",
   "name": "python3"
  },
  "language_info": {
   "codemirror_mode": {
    "name": "ipython",
    "version": 2
   },
   "file_extension": ".py",
   "mimetype": "text/x-python",
   "name": "python",
   "nbconvert_exporter": "python",
   "pygments_lexer": "ipython2",
   "version": "2.7.6"
  }
 },
 "nbformat": 4,
 "nbformat_minor": 0
}